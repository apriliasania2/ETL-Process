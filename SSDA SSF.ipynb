{
 "cells": [
  {
   "cell_type": "code",
   "execution_count": 25,
   "id": "32d93df4",
   "metadata": {},
   "outputs": [],
   "source": [
    "import pandas as pd\n",
    "import os\n",
    "import numpy as np\n",
    "from sklearn.model_selection import train_test_split\n",
    "from sklearn.preprocessing import StandardScaler, MinMaxScaler, LabelEncoder"
   ]
  },
  {
   "cell_type": "code",
   "execution_count": 26,
   "id": "c5d64d17",
   "metadata": {},
   "outputs": [],
   "source": [
    "#Import csv dari suatu folder\n",
    "folder_path = 'D:/LOMBA/14. SSF/Database TV Shows'"
   ]
  },
  {
   "cell_type": "code",
   "execution_count": 27,
   "id": "33720308",
   "metadata": {},
   "outputs": [],
   "source": [
    "#Load CSV file utama (shows.csv)\n",
    "shows_df = pd.read_csv(os.path.join(folder_path, 'shows.csv'))"
   ]
  },
  {
   "cell_type": "code",
   "execution_count": 28,
   "id": "9849f3da",
   "metadata": {},
   "outputs": [],
   "source": [
    "#Load CSV file yang memiliki relasi dengan 'shows.csv'\n",
    "genres_df = pd.read_csv(os.path.join(folder_path, 'genres.csv'))\n",
    "genre_types_df = pd.read_csv(os.path.join(folder_path, 'genre_types.csv'))\n",
    "networks_df = pd.read_csv(os.path.join(folder_path, 'networks.csv'))\n",
    "network_types_df = pd.read_csv(os.path.join(folder_path, 'network_types.csv'))\n",
    "status_df = pd.read_csv(os.path.join(folder_path, 'status.csv'))\n",
    "types_df = pd.read_csv(os.path.join(folder_path, 'types.csv'))\n",
    "show_votes_df = pd.read_csv(os.path.join(folder_path, 'show_votes.csv'))\n",
    "air_dates_df = pd.read_csv(os.path.join(folder_path, 'air_dates.csv'))\n",
    "production_countries_df = pd.read_csv(os.path.join(folder_path, 'production_countries.csv'))\n",
    "production_country_types_df = pd.read_csv(os.path.join(folder_path, 'production_country_types.csv'))\n",
    "origin_country_types_df = pd.read_csv(os.path.join(folder_path, 'origin_country_types.csv'))"
   ]
  },
  {
   "cell_type": "code",
   "execution_count": 29,
   "id": "dd9ed181",
   "metadata": {},
   "outputs": [],
   "source": [
    "#Gabungkan genres dengan genre_types untuk mendapatkan nama genre\n",
    "genres_combined_df = pd.merge(genres_df, genre_types_df, on='genre_type_id', how='left')\n",
    "\n",
    "#Gabungkan shows dengan genres\n",
    "shows_genres_df = pd.merge(shows_df, genres_combined_df, on='show_id', how='left')"
   ]
  },
  {
   "cell_type": "code",
   "execution_count": 30,
   "id": "c17c45bb",
   "metadata": {},
   "outputs": [],
   "source": [
    "#Gabungkan networks dengan network_types\n",
    "networks_combined_df = pd.merge(networks_df, network_types_df, on='network_type_id', how='left')\n",
    "\n",
    "#Gabungkan shows dengan networks\n",
    "shows_networks_df = pd.merge(shows_genres_df, networks_combined_df, on='show_id', how='left')"
   ]
  },
  {
   "cell_type": "code",
   "execution_count": 31,
   "id": "4d419b9d",
   "metadata": {},
   "outputs": [],
   "source": [
    "#Gabungkan shows dengan status\n",
    "shows_status_df = pd.merge(shows_networks_df, status_df, on='status_id', how='left')"
   ]
  },
  {
   "cell_type": "code",
   "execution_count": 32,
   "id": "0a35691c",
   "metadata": {},
   "outputs": [],
   "source": [
    "#Gabungkan shows dengan types\n",
    "shows_types_df = pd.merge(shows_status_df, types_df, on='type_id', how='left')"
   ]
  },
  {
   "cell_type": "code",
   "execution_count": 33,
   "id": "ced32c65",
   "metadata": {},
   "outputs": [],
   "source": [
    "#Gabungkan production_countries dengan production_country_types\n",
    "production_country_df = pd.merge(production_countries_df, production_country_types_df, on='production_country_type_id', how='left')\n",
    "\n",
    "#Gabungkan production_country_df dengan origin_country_types\n",
    "production_combined_df = pd.merge(production_country_df, origin_country_types_df, on='origin_country_type_id', how='left')\n",
    "\n",
    "#Gabungkan shows dengan production country\n",
    "shows_production_countries_df = pd.merge(shows_types_df, production_combined_df, on='show_id', how='left')"
   ]
  },
  {
   "cell_type": "code",
   "execution_count": 34,
   "id": "0b1ee653",
   "metadata": {},
   "outputs": [],
   "source": [
    "#Gabungkan shows dengan dates\n",
    "shows_dates_df = pd.merge(shows_production_countries_df, air_dates_df, on='show_id', how='left')"
   ]
  },
  {
   "cell_type": "code",
   "execution_count": 35,
   "id": "66d2f29a",
   "metadata": {},
   "outputs": [],
   "source": [
    "#Gabungkan shows dengan show_votes\n",
    "combined_df = pd.merge(shows_dates_df, show_votes_df, on='show_id', how='left')"
   ]
  },
  {
   "cell_type": "markdown",
   "id": "5c3fd801",
   "metadata": {},
   "source": [
    "# Preprocessing"
   ]
  },
  {
   "cell_type": "code",
   "execution_count": 36,
   "id": "7d3cc6db",
   "metadata": {},
   "outputs": [
    {
     "data": {
      "text/plain": [
       "show_id                            0\n",
       "name                              10\n",
       "number_of_seasons                  0\n",
       "number_of_episodes                 0\n",
       "overview                      183568\n",
       "adult                              0\n",
       "in_production                      0\n",
       "original_name                     10\n",
       "popularity                         0\n",
       "tagline                       475902\n",
       "eposide_run_time                   0\n",
       "type_id                            0\n",
       "status_id                          0\n",
       "genre_type_id                 135450\n",
       "genre_name                    135450\n",
       "network_type_id               150816\n",
       "network_name                  150816\n",
       "status_name                        0\n",
       "type_name                          0\n",
       "production_country_type_id    201234\n",
       "origin_country_type_id        201234\n",
       "production_country_name       201234\n",
       "origin_country_name           201234\n",
       "is_first                           0\n",
       "date                           74909\n",
       "vote_count                         0\n",
       "vote_average                       0\n",
       "dtype: int64"
      ]
     },
     "execution_count": 36,
     "metadata": {},
     "output_type": "execute_result"
    }
   ],
   "source": [
    "combined_df.isnull().sum() #Menghitung jumlah nilai null di setiap kolom"
   ]
  },
  {
   "cell_type": "code",
   "execution_count": 37,
   "id": "0a353251",
   "metadata": {},
   "outputs": [
    {
     "name": "stdout",
     "output_type": "stream",
     "text": [
      "<class 'pandas.core.frame.DataFrame'>\n",
      "Int64Index: 502106 entries, 0 to 502105\n",
      "Data columns (total 27 columns):\n",
      " #   Column                      Non-Null Count   Dtype  \n",
      "---  ------                      --------------   -----  \n",
      " 0   show_id                     502106 non-null  int64  \n",
      " 1   name                        502096 non-null  object \n",
      " 2   number_of_seasons           502106 non-null  int64  \n",
      " 3   number_of_episodes          502106 non-null  int64  \n",
      " 4   overview                    318538 non-null  object \n",
      " 5   adult                       502106 non-null  int64  \n",
      " 6   in_production               502106 non-null  int64  \n",
      " 7   original_name               502096 non-null  object \n",
      " 8   popularity                  502106 non-null  float64\n",
      " 9   tagline                     26204 non-null   object \n",
      " 10  eposide_run_time            502106 non-null  int64  \n",
      " 11  type_id                     502106 non-null  int64  \n",
      " 12  status_id                   502106 non-null  int64  \n",
      " 13  genre_type_id               366656 non-null  float64\n",
      " 14  genre_name                  366656 non-null  object \n",
      " 15  network_type_id             351290 non-null  float64\n",
      " 16  network_name                351290 non-null  object \n",
      " 17  status_name                 502106 non-null  object \n",
      " 18  type_name                   502106 non-null  object \n",
      " 19  production_country_type_id  300872 non-null  float64\n",
      " 20  origin_country_type_id      300872 non-null  float64\n",
      " 21  production_country_name     300872 non-null  object \n",
      " 22  origin_country_name         300872 non-null  object \n",
      " 23  is_first                    502106 non-null  int64  \n",
      " 24  date                        427197 non-null  object \n",
      " 25  vote_count                  502106 non-null  int64  \n",
      " 26  vote_average                502106 non-null  float64\n",
      "dtypes: float64(6), int64(10), object(11)\n",
      "memory usage: 107.3+ MB\n"
     ]
    }
   ],
   "source": [
    "combined_df.info()"
   ]
  },
  {
   "cell_type": "code",
   "execution_count": 38,
   "id": "a6401761",
   "metadata": {},
   "outputs": [],
   "source": [
    "combined_df = combined_df.drop(columns=['tagline'])"
   ]
  },
  {
   "cell_type": "code",
   "execution_count": 39,
   "id": "acf897d9",
   "metadata": {},
   "outputs": [],
   "source": [
    "combined_df = combined_df.drop(columns=['overview'])"
   ]
  },
  {
   "cell_type": "code",
   "execution_count": 40,
   "id": "65d30d82",
   "metadata": {},
   "outputs": [
    {
     "name": "stdout",
     "output_type": "stream",
     "text": [
      "<class 'pandas.core.frame.DataFrame'>\n",
      "Int64Index: 502106 entries, 0 to 502105\n",
      "Data columns (total 25 columns):\n",
      " #   Column                      Non-Null Count   Dtype  \n",
      "---  ------                      --------------   -----  \n",
      " 0   show_id                     502106 non-null  int64  \n",
      " 1   name                        502096 non-null  object \n",
      " 2   number_of_seasons           502106 non-null  int64  \n",
      " 3   number_of_episodes          502106 non-null  int64  \n",
      " 4   adult                       502106 non-null  int64  \n",
      " 5   in_production               502106 non-null  int64  \n",
      " 6   original_name               502096 non-null  object \n",
      " 7   popularity                  502106 non-null  float64\n",
      " 8   eposide_run_time            502106 non-null  int64  \n",
      " 9   type_id                     502106 non-null  int64  \n",
      " 10  status_id                   502106 non-null  int64  \n",
      " 11  genre_type_id               366656 non-null  float64\n",
      " 12  genre_name                  366656 non-null  object \n",
      " 13  network_type_id             351290 non-null  float64\n",
      " 14  network_name                351290 non-null  object \n",
      " 15  status_name                 502106 non-null  object \n",
      " 16  type_name                   502106 non-null  object \n",
      " 17  production_country_type_id  300872 non-null  float64\n",
      " 18  origin_country_type_id      300872 non-null  float64\n",
      " 19  production_country_name     300872 non-null  object \n",
      " 20  origin_country_name         300872 non-null  object \n",
      " 21  is_first                    502106 non-null  int64  \n",
      " 22  date                        427197 non-null  object \n",
      " 23  vote_count                  502106 non-null  int64  \n",
      " 24  vote_average                502106 non-null  float64\n",
      "dtypes: float64(6), int64(10), object(9)\n",
      "memory usage: 99.6+ MB\n"
     ]
    }
   ],
   "source": [
    "combined_df.info()"
   ]
  },
  {
   "cell_type": "code",
   "execution_count": 41,
   "id": "c273af92",
   "metadata": {},
   "outputs": [
    {
     "data": {
      "text/plain": [
       "show_id                            0\n",
       "name                              10\n",
       "number_of_seasons                  0\n",
       "number_of_episodes                 0\n",
       "adult                              0\n",
       "in_production                      0\n",
       "original_name                     10\n",
       "popularity                         0\n",
       "eposide_run_time                   0\n",
       "type_id                            0\n",
       "status_id                          0\n",
       "genre_type_id                 135450\n",
       "genre_name                    135450\n",
       "network_type_id               150816\n",
       "network_name                  150816\n",
       "status_name                        0\n",
       "type_name                          0\n",
       "production_country_type_id    201234\n",
       "origin_country_type_id        201234\n",
       "production_country_name       201234\n",
       "origin_country_name           201234\n",
       "is_first                           0\n",
       "date                           74909\n",
       "vote_count                         0\n",
       "vote_average                       0\n",
       "dtype: int64"
      ]
     },
     "execution_count": 41,
     "metadata": {},
     "output_type": "execute_result"
    }
   ],
   "source": [
    "combined_df.isnull().sum() #Menghitung jumlah nilai null di setiap kolom"
   ]
  },
  {
   "cell_type": "code",
   "execution_count": 42,
   "id": "56f81064",
   "metadata": {},
   "outputs": [],
   "source": [
    "combined_df['network_name'].fillna('Unknown', inplace=True)"
   ]
  },
  {
   "cell_type": "code",
   "execution_count": 43,
   "id": "30a654cc",
   "metadata": {},
   "outputs": [],
   "source": [
    "combined_df['genre_name'].fillna('Unknown', inplace=True)"
   ]
  },
  {
   "cell_type": "code",
   "execution_count": 44,
   "id": "ccadd718",
   "metadata": {},
   "outputs": [],
   "source": [
    "combined_df = combined_df.dropna(subset=['name'])"
   ]
  },
  {
   "cell_type": "code",
   "execution_count": 45,
   "id": "07337e48",
   "metadata": {},
   "outputs": [
    {
     "data": {
      "text/plain": [
       "show_id                            0\n",
       "name                               0\n",
       "number_of_seasons                  0\n",
       "number_of_episodes                 0\n",
       "adult                              0\n",
       "in_production                      0\n",
       "original_name                      0\n",
       "popularity                         0\n",
       "eposide_run_time                   0\n",
       "type_id                            0\n",
       "status_id                          0\n",
       "genre_type_id                 135440\n",
       "genre_name                         0\n",
       "network_type_id               150806\n",
       "network_name                       0\n",
       "status_name                        0\n",
       "type_name                          0\n",
       "production_country_type_id    201224\n",
       "origin_country_type_id        201224\n",
       "production_country_name       201224\n",
       "origin_country_name           201224\n",
       "is_first                           0\n",
       "date                           74907\n",
       "vote_count                         0\n",
       "vote_average                       0\n",
       "dtype: int64"
      ]
     },
     "execution_count": 45,
     "metadata": {},
     "output_type": "execute_result"
    }
   ],
   "source": [
    "combined_df.isnull().sum() #Menghitung jumlah nilai null di setiap kolom"
   ]
  },
  {
   "cell_type": "code",
   "execution_count": 48,
   "id": "da5ef866",
   "metadata": {},
   "outputs": [],
   "source": [
    "output_combined_csv_path = 'D:/LOMBA/14. SSF/New Data/New Data.csv'\n",
    "combined_df.to_csv(output_combined_csv_path, index=False)"
   ]
  },
  {
   "cell_type": "code",
   "execution_count": 47,
   "id": "0ad164f7",
   "metadata": {},
   "outputs": [
    {
     "name": "stdout",
     "output_type": "stream",
     "text": [
      "<class 'pandas.core.frame.DataFrame'>\n",
      "Int64Index: 502096 entries, 0 to 502105\n",
      "Data columns (total 25 columns):\n",
      " #   Column                      Non-Null Count   Dtype  \n",
      "---  ------                      --------------   -----  \n",
      " 0   show_id                     502096 non-null  int64  \n",
      " 1   name                        502096 non-null  object \n",
      " 2   number_of_seasons           502096 non-null  int64  \n",
      " 3   number_of_episodes          502096 non-null  int64  \n",
      " 4   adult                       502096 non-null  int64  \n",
      " 5   in_production               502096 non-null  int64  \n",
      " 6   original_name               502096 non-null  object \n",
      " 7   popularity                  502096 non-null  float64\n",
      " 8   eposide_run_time            502096 non-null  int64  \n",
      " 9   type_id                     502096 non-null  int64  \n",
      " 10  status_id                   502096 non-null  int64  \n",
      " 11  genre_type_id               366656 non-null  float64\n",
      " 12  genre_name                  502096 non-null  object \n",
      " 13  network_type_id             351290 non-null  float64\n",
      " 14  network_name                502096 non-null  object \n",
      " 15  status_name                 502096 non-null  object \n",
      " 16  type_name                   502096 non-null  object \n",
      " 17  production_country_type_id  300872 non-null  float64\n",
      " 18  origin_country_type_id      300872 non-null  float64\n",
      " 19  production_country_name     300872 non-null  object \n",
      " 20  origin_country_name         300872 non-null  object \n",
      " 21  is_first                    502096 non-null  int64  \n",
      " 22  date                        427189 non-null  object \n",
      " 23  vote_count                  502096 non-null  int64  \n",
      " 24  vote_average                502096 non-null  float64\n",
      "dtypes: float64(6), int64(10), object(9)\n",
      "memory usage: 99.6+ MB\n"
     ]
    }
   ],
   "source": [
    "combined_df.info()"
   ]
  },
  {
   "cell_type": "code",
   "execution_count": null,
   "id": "33bb5773",
   "metadata": {},
   "outputs": [],
   "source": []
  }
 ],
 "metadata": {
  "kernelspec": {
   "display_name": "Python 3",
   "language": "python",
   "name": "python3"
  },
  "language_info": {
   "codemirror_mode": {
    "name": "ipython",
    "version": 3
   },
   "file_extension": ".py",
   "mimetype": "text/x-python",
   "name": "python",
   "nbconvert_exporter": "python",
   "pygments_lexer": "ipython3",
   "version": "3.8.8"
  }
 },
 "nbformat": 4,
 "nbformat_minor": 5
}
